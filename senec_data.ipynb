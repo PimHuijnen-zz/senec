{
 "cells": [
  {
   "cell_type": "markdown",
   "metadata": {},
   "source": [
    "# Do stuff with SENEC CSVs with solar panel data "
   ]
  },
  {
   "cell_type": "code",
   "execution_count": null,
   "metadata": {},
   "outputs": [],
   "source": [
    "import pandas as pd\n",
    "import datetime as dt\n",
    "import glob\n",
    "import os\n",
    "import numpy as np\n",
    "#from pandas import ExcelWriter\n",
    "from openpyxl import load_workbook\n",
    "import matplotlib.pyplot as plt\n",
    "import matplotlib.dates as mdates\n",
    "import seaborn as sns"
   ]
  },
  {
   "cell_type": "markdown",
   "metadata": {},
   "source": [
    "## Import\n",
    "\n",
    "To be able to loop through directory with csv's"
   ]
  },
  {
   "cell_type": "code",
   "execution_count": null,
   "metadata": {},
   "outputs": [],
   "source": [
    "path = r'/Users/huijn001/Desktop/test/senec/'          # use your path\n",
    "all_files = glob.glob(os.path.join(path, \"*.csv\"))     # advisable to use os.path.join as this makes concatenation OS independent"
   ]
  },
  {
   "cell_type": "markdown",
   "metadata": {},
   "source": [
    "Turn csv into pandas df and concatenate all df's to one (they all have the exact same columns, so pd.concat suffices):"
   ]
  },
  {
   "cell_type": "code",
   "execution_count": null,
   "metadata": {},
   "outputs": [],
   "source": [
    "df_from_each_file = (pd.read_csv(f, decimal=\",\", sep=';') for f in all_files)\n",
    "df = pd.concat(df_from_each_file, ignore_index=True)"
   ]
  },
  {
   "cell_type": "code",
   "execution_count": null,
   "metadata": {},
   "outputs": [],
   "source": [
    "print(df.head())"
   ]
  },
  {
   "cell_type": "markdown",
   "metadata": {},
   "source": [
    "## Make a new dataframe from the relevant columns\n",
    "\n",
    "Add all relevant columns in new dataframe df1 and add data as numerical data (my SENEC data is in German)"
   ]
  },
  {
   "cell_type": "code",
   "execution_count": null,
   "metadata": {},
   "outputs": [],
   "source": [
    "df1 = df[[\"Stromverbrauch [kW]\", \"Stromerzeugung [kW]\", \"Netzbezug [kW]\", \"Netzeinspeisung [kW]\"]].apply(pd.to_numeric)"
   ]
  },
  {
   "cell_type": "markdown",
   "metadata": {},
   "source": [
    "Add date column to df1 as datetime"
   ]
  },
  {
   "cell_type": "code",
   "execution_count": null,
   "metadata": {},
   "outputs": [],
   "source": [
    "df1[\"datum\"] = pd.to_datetime(df[\"Uhrzeit\"], format =\"%d.%m.%Y %H:%M:%S\")"
   ]
  },
  {
   "cell_type": "markdown",
   "metadata": {},
   "source": [
    "Turn datetime column into index"
   ]
  },
  {
   "cell_type": "code",
   "execution_count": null,
   "metadata": {},
   "outputs": [],
   "source": [
    "df1 = df1.set_index(\"datum\")"
   ]
  },
  {
   "cell_type": "code",
   "execution_count": null,
   "metadata": {},
   "outputs": [],
   "source": [
    "print(df1.head())"
   ]
  },
  {
   "cell_type": "markdown",
   "metadata": {},
   "source": [
    "### Electric power per day\n",
    "\n",
    "SENEC data comes in 5-minute intervals. Here we calculate data per day by adding daily data divided by 12. Stored in new df called power_per_day"
   ]
  },
  {
   "cell_type": "code",
   "execution_count": null,
   "metadata": {},
   "outputs": [],
   "source": [
    "power_per_day = df1.resample(\"d\").sum()"
   ]
  },
  {
   "cell_type": "code",
   "execution_count": null,
   "metadata": {},
   "outputs": [],
   "source": [
    "print(power_per_day.shape)"
   ]
  },
  {
   "cell_type": "code",
   "execution_count": null,
   "metadata": {},
   "outputs": [],
   "source": [
    "print(power_per_day.head())"
   ]
  },
  {
   "cell_type": "markdown",
   "metadata": {},
   "source": [
    "Dividing power_per_day data by 12"
   ]
  },
  {
   "cell_type": "code",
   "execution_count": null,
   "metadata": {},
   "outputs": [],
   "source": [
    "power_per_day.iloc[:, :] = power_per_day.iloc[:, :].div(12)"
   ]
  },
  {
   "cell_type": "markdown",
   "metadata": {},
   "source": [
    "Change column names from kW to kWh"
   ]
  },
  {
   "cell_type": "code",
   "execution_count": null,
   "metadata": {},
   "outputs": [],
   "source": [
    "power_per_day.columns = ['Stromverbrauch [kWh]', 'Stromerzeugung [kWh]', 'Netzbezug [kWh]', 'Netzeinspeisung [kWh]']"
   ]
  },
  {
   "cell_type": "code",
   "execution_count": null,
   "metadata": {},
   "outputs": [],
   "source": [
    "#print(power_per_day.head())"
   ]
  },
  {
   "cell_type": "markdown",
   "metadata": {},
   "source": [
    "Add column which substracts used and sold power from generated and bought power. If the result is more than 0 this means that more power is used than appears from the used and sold columns. This must have gone into our EV."
   ]
  },
  {
   "cell_type": "code",
   "execution_count": null,
   "metadata": {},
   "outputs": [],
   "source": [
    "power_per_day['Stromverbrauch PkW [kWh]'] = power_per_day['Stromerzeugung [kWh]'] + power_per_day['Netzbezug [kWh]'] - power_per_day['Stromverbrauch [kWh]'] - power_per_day['Netzeinspeisung [kWh]']"
   ]
  },
  {
   "cell_type": "markdown",
   "metadata": {},
   "source": [
    "Set values 'Stromverbrauch PkW [kWh]' for 14-01-2021 and 15-01-2021 to 0 (because these values were the result of the first charge of and discharge of the battery and, therefore, not representative)"
   ]
  },
  {
   "cell_type": "code",
   "execution_count": null,
   "metadata": {},
   "outputs": [],
   "source": [
    "power_per_day.loc[['2021-01-14', '2021-01-15'], 'Stromverbrauch PkW [kWh]'] = 0"
   ]
  },
  {
   "cell_type": "markdown",
   "metadata": {},
   "source": [
    "Round new column to 0"
   ]
  },
  {
   "cell_type": "code",
   "execution_count": null,
   "metadata": {},
   "outputs": [],
   "source": [
    "power_per_day['Stromverbrauch PkW [kWh]'] = power_per_day['Stromverbrauch PkW [kWh]'].round(0)"
   ]
  },
  {
   "cell_type": "code",
   "execution_count": null,
   "metadata": {},
   "outputs": [],
   "source": [
    "#print(power_per_day.head())"
   ]
  },
  {
   "cell_type": "markdown",
   "metadata": {},
   "source": [
    "Some statistics"
   ]
  },
  {
   "cell_type": "code",
   "execution_count": null,
   "metadata": {},
   "outputs": [],
   "source": [
    "#power_per_day.describe()"
   ]
  },
  {
   "cell_type": "markdown",
   "metadata": {},
   "source": [
    "### Power per week, month, year"
   ]
  },
  {
   "cell_type": "markdown",
   "metadata": {},
   "source": [
    "Electric power per week in power_per_week"
   ]
  },
  {
   "cell_type": "code",
   "execution_count": null,
   "metadata": {},
   "outputs": [],
   "source": [
    "power_per_week = power_per_day.resample('W-MON').sum()"
   ]
  },
  {
   "cell_type": "code",
   "execution_count": null,
   "metadata": {},
   "outputs": [],
   "source": [
    "#print(power_per_week.head())"
   ]
  },
  {
   "cell_type": "markdown",
   "metadata": {},
   "source": [
    "Electric power per month in power_per_month"
   ]
  },
  {
   "cell_type": "code",
   "execution_count": null,
   "metadata": {},
   "outputs": [],
   "source": [
    "power_per_month = power_per_day.resample(\"m\").sum()"
   ]
  },
  {
   "cell_type": "code",
   "execution_count": null,
   "metadata": {},
   "outputs": [],
   "source": [
    "#power_per_month.describe()"
   ]
  },
  {
   "cell_type": "code",
   "execution_count": null,
   "metadata": {},
   "outputs": [],
   "source": [
    "#print(power_per_month.head())"
   ]
  },
  {
   "cell_type": "markdown",
   "metadata": {},
   "source": [
    "Electric power per year in power_per_year"
   ]
  },
  {
   "cell_type": "code",
   "execution_count": null,
   "metadata": {},
   "outputs": [],
   "source": [
    "power_per_year = power_per_day.resample(\"y\").sum()"
   ]
  },
  {
   "cell_type": "code",
   "execution_count": null,
   "metadata": {},
   "outputs": [],
   "source": [
    "#print(power_per_year.head())"
   ]
  },
  {
   "cell_type": "markdown",
   "metadata": {},
   "source": [
    "## Dataframe -> excel\n",
    "\n",
    "### Option 1\n",
    "\n",
    "These lines write the results of power_per_day etc. to a new excel file"
   ]
  },
  {
   "cell_type": "code",
   "execution_count": null,
   "metadata": {},
   "outputs": [],
   "source": [
    "#writer = ExcelWriter('/path/to/new_file.xlsx')\n",
    "#power_per_day.to_excel(writer,'Sheet5')\n",
    "#writer.save() "
   ]
  },
  {
   "cell_type": "markdown",
   "metadata": {},
   "source": [
    "### Option 2\n",
    "\n",
    "These lines write the results of the chosen df's to an already existing excel file (to new sheets named as such). If a sheet with the given name already exists, it won't overwrite but add a new column named existing_sheet1. "
   ]
  },
  {
   "cell_type": "code",
   "execution_count": null,
   "metadata": {},
   "outputs": [],
   "source": [
    "book = load_workbook('/Users/huijn001/Desktop/pv-anlage.xlsx')\n",
    "writer = pd.ExcelWriter('/Users/huijn001/Desktop/pv-anlage.xlsx', engine='openpyxl') \n",
    "writer.book = book\n",
    "\n",
    "## ExcelWriter for some reason uses writer.sheets to access the sheet.\n",
    "## If you leave it empty it will not know that sheet Main is already there\n",
    "## and will create a new sheet.\n",
    "\n",
    "writer.sheets = dict((ws.title, ws) for ws in book.worksheets)\n",
    "\n",
    "power_per_day.to_excel(writer, \"stroom per dag\")\n",
    "power_per_month.to_excel(writer, \"stroom per maand\")\n",
    "power_per_year.to_excel(writer, \"stroom per jaar\")\n",
    "\n",
    "writer.save()"
   ]
  },
  {
   "cell_type": "markdown",
   "metadata": {},
   "source": [
    "## Visualisations"
   ]
  },
  {
   "cell_type": "markdown",
   "metadata": {},
   "source": [
    "Define relevant columns for stacked bar chart"
   ]
  },
  {
   "cell_type": "code",
   "execution_count": null,
   "metadata": {},
   "outputs": [],
   "source": [
    "bar1 = power_per_month[['Stromverbrauch [kWh]', 'Netzeinspeisung [kWh]', 'Stromverbrauch PkW [kWh]']]\n",
    "bar2 = power_per_month[['Stromerzeugung [kWh]', 'Netzbezug [kWh]']]"
   ]
  },
  {
   "cell_type": "code",
   "execution_count": null,
   "metadata": {},
   "outputs": [],
   "source": [
    "bar3 = power_per_year[['Stromverbrauch [kWh]', 'Netzeinspeisung [kWh]', 'Stromverbrauch PkW [kWh]']]\n",
    "bar4 = power_per_year[['Stromerzeugung [kWh]', 'Netzbezug [kWh]']]"
   ]
  },
  {
   "cell_type": "markdown",
   "metadata": {},
   "source": [
    "Define relevant columns for line chart"
   ]
  },
  {
   "cell_type": "code",
   "execution_count": null,
   "metadata": {},
   "outputs": [],
   "source": [
    "line6 = power_per_day['Stromverbrauch [kWh]']\n",
    "line7 = power_per_day['Netzbezug [kWh]']\n",
    "line8 = power_per_day['Stromerzeugung [kWh]']\n",
    "line9 = power_per_day['Netzeinspeisung [kWh]']\n",
    "line10 = power_per_day['Stromverbrauch PkW [kWh]']"
   ]
  },
  {
   "cell_type": "code",
   "execution_count": null,
   "metadata": {},
   "outputs": [],
   "source": [
    "line1 = power_per_week['Stromverbrauch [kWh]']\n",
    "line2 = power_per_week['Netzbezug [kWh]']\n",
    "line3 = power_per_week['Stromerzeugung [kWh]']\n",
    "line4 = power_per_week['Netzeinspeisung [kWh]']\n",
    "line5 = power_per_week['Stromverbrauch PkW [kWh]']"
   ]
  },
  {
   "cell_type": "markdown",
   "metadata": {},
   "source": [
    "Index to string with relevant info for month (month-year) and year (year). This should go easier with ax.xaxis.set_major_formatter(mdates.DateFormatter('%b %Y')) while creating the graph, but this gave me an error"
   ]
  },
  {
   "cell_type": "code",
   "execution_count": null,
   "metadata": {},
   "outputs": [],
   "source": [
    "bar1.index = power_per_month.index.strftime('%b %Y')\n",
    "bar2.index = power_per_month.index.strftime('%b %Y')"
   ]
  },
  {
   "cell_type": "code",
   "execution_count": null,
   "metadata": {},
   "outputs": [],
   "source": [
    "bar3.index = power_per_year.index.strftime('%Y')\n",
    "bar4.index = power_per_year.index.strftime('%Y')"
   ]
  },
  {
   "cell_type": "markdown",
   "metadata": {},
   "source": [
    "Define figure, axes and style (sns.set)"
   ]
  },
  {
   "cell_type": "code",
   "execution_count": null,
   "metadata": {},
   "outputs": [],
   "source": [
    "sns.set()"
   ]
  },
  {
   "cell_type": "markdown",
   "metadata": {},
   "source": [
    "Plot a line chart for power_per_day:"
   ]
  },
  {
   "cell_type": "code",
   "execution_count": null,
   "metadata": {},
   "outputs": [],
   "source": [
    "fig = plt.figure(figsize = (15,8))\n",
    "ax = fig.add_subplot(111)\n",
    "\n",
    "plt.plot(power_per_day.index, line6, color='orange', label='Stromverbauch', marker='.')\n",
    "plt.plot(power_per_day.index, line8, color='yellow', marker='.', label='Stromerzeugung')\n",
    "plt.plot(power_per_day.index, line7, color='darkgrey', marker='.', label='Netzbezug')\n",
    "plt.plot(power_per_day.index, line9, color='lightgrey', marker='.', label='Netzeinspeisung')\n",
    "plt.plot(power_per_day.index, line10, color='blue', marker='.', label='Stromverbrauch PkW')\n",
    "plt.axhline(y=21.8, color='r', linestyle=':', label='Stromverbrauch pro Tag in 2020 (21,8 kWh)')\n",
    "\n",
    "\n",
    "plt.title(\"Stromverbrauch pro Tag\", fontsize=20)\n",
    "plt.xlabel(\"Tag\", fontsize=14)\n",
    "plt.xticks(rotation=45)\n",
    "\n",
    "# x-axis from January 2021 to January 2022\n",
    "#datemin = np.datetime64(stroom_per_dag.index[0], 'Y')\n",
    "#datemax = np.datetime64(stroom_per_dag.index[-1], 'Y') + np.timedelta64(1, 'Y')\n",
    "#limit = ax.set_xlim(datemin, datemax)\n",
    "\n",
    "# interval-argument makes sure that x-axis labels are only shown at given interval\n",
    "plt.gca().xaxis.set_major_locator(mdates.DayLocator(interval=3))\n",
    "\n",
    "# Minor ticks every day\n",
    "fmt_day = mdates.DayLocator()\n",
    "ax.xaxis.set_minor_locator(fmt_day)\n",
    "\n",
    "plt.ylabel(\"kWh\", fontsize=14)\n",
    "plt.legend()"
   ]
  },
  {
   "cell_type": "markdown",
   "metadata": {},
   "source": [
    "Plot a line chart for power_per_week"
   ]
  },
  {
   "cell_type": "code",
   "execution_count": null,
   "metadata": {},
   "outputs": [],
   "source": [
    "fig = plt.figure(figsize = (15,6))\n",
    "ax = fig.add_subplot(111)\n",
    "\n",
    "plt.plot(power_per_week.index, line1, color='orange', marker='.', label='Stromverbauch')\n",
    "plt.plot(power_per_week.index, line3, color='yellow', marker='.', label='Stromerzeugung')\n",
    "plt.plot(power_per_week.index, line2, color='darkgrey', marker='.', label='Netzbezug')\n",
    "plt.plot(power_per_week.index, line4, color='lightgrey', marker='.', label='Netzeinspeisung')\n",
    "plt.plot(power_per_week.index, line5, color='blue', marker='.', label='Stromverbrauch PkW')\n",
    "plt.axhline(y=134, color='r', linestyle=':', label='Stromverbrauch pro Woche in 2020')\n",
    "\n",
    "plt.title(\"Stromverbrauch pro Woche\", fontsize=20)\n",
    "plt.xlabel(\"Woche\", fontsize=14)\n",
    "plt.xticks(rotation=45)\n",
    "plt.ylabel(\"kWh\", fontsize=14)\n",
    "plt.legend()"
   ]
  },
  {
   "cell_type": "markdown",
   "metadata": {},
   "source": [
    "Plot a stacked bar chart for monthly and yearly data"
   ]
  },
  {
   "cell_type": "code",
   "execution_count": null,
   "metadata": {},
   "outputs": [],
   "source": [
    "fig = plt.figure(figsize = (10,6))\n",
    "ax = fig.add_subplot(111)\n",
    "\n",
    "bar1.plot(kind=\"bar\", stacked=True, width=0.3, \n",
    "                  ax=ax, position=0, rot=45, color=sns.color_palette(\"muted\"))\n",
    "bar2.plot(kind=\"bar\", stacked=True, width=0.3, \n",
    "                   ax=ax, position=1, hatch='..', rot=0, color=sns.color_palette(\"pastel\"))\n",
    "\n",
    "plt.xlabel('Date', fontsize=14)\n",
    "plt.ylabel('kWh', fontsize=14)\n",
    "plt.title('Stromverbrauch pro Monat', fontsize=20)\n",
    "#plt.legend('upper left')\n",
    "\n",
    "#ax.xaxis.set_major_formatter(mdates.DateFormatter('%b-%Y'))\n",
    "\n",
    "#plt.savefig('/Users/huijn001/Desktop/test/stroom_per_maand.png', dpi=300, bbox_inches='tight') # save chart as png\n",
    "plt.show()"
   ]
  },
  {
   "cell_type": "code",
   "execution_count": null,
   "metadata": {},
   "outputs": [],
   "source": [
    "fig1 = plt.figure(figsize = (10,6))\n",
    "ax = fig1.add_subplot(111)\n",
    "# pal = [\"#9b59b6\", \"#2ecc71\"]\n",
    "# \"#34495e\", \"#e74c3c\"\n",
    "\n",
    "bar3.plot(kind=\"bar\", stacked=True, width=0.1, \n",
    "                  ax=ax, position=0, rot=45, color=sns.color_palette(\"muted\"))\n",
    "bar4.plot(kind=\"bar\", stacked=True, width=0.1, \n",
    "                   ax=ax, position=1, hatch='..', alpha=0.7, rot=0, color=sns.color_palette(\"pastel\"))\n",
    "\n",
    "plt.xlabel('Date', fontsize=14)\n",
    "plt.ylabel('kWh', fontsize=14)\n",
    "plt.title('Stromverbrauch pro Jahr', fontsize=20)\n",
    "\n",
    "#ax.xaxis.set_major_formatter(mdates.DateFormatter('%Y'))\n",
    "\n",
    "#plt.savefig('/Users/huijn001/Desktop/test/stroom_per_jaar.png', dpi=300, bbox_inches='tight') # save chart as png\n",
    "plt.show()"
   ]
  },
  {
   "cell_type": "markdown",
   "metadata": {},
   "source": [
    "Generate a heatmap of the correlation between the different columns with df.corr() and sns.heatmap. Green stands for a positive and red for a negative correlation"
   ]
  },
  {
   "cell_type": "code",
   "execution_count": null,
   "metadata": {},
   "outputs": [],
   "source": [
    "sns.heatmap(power_per_day.corr(), square=True,cmap='RdYlGn')"
   ]
  }
 ],
 "metadata": {
  "kernelspec": {
   "display_name": "Python 3",
   "language": "python",
   "name": "python3"
  },
  "language_info": {
   "codemirror_mode": {
    "name": "ipython",
    "version": 3
   },
   "file_extension": ".py",
   "mimetype": "text/x-python",
   "name": "python",
   "nbconvert_exporter": "python",
   "pygments_lexer": "ipython3",
   "version": "3.8.5"
  }
 },
 "nbformat": 4,
 "nbformat_minor": 4
}
